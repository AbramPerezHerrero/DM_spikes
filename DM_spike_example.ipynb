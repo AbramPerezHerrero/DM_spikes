{
 "cells": [
  {
   "cell_type": "markdown",
   "id": "025a5b83",
   "metadata": {},
   "source": [
    "# Dark matter spike density profile example.\n",
    "## Author : Abram Pérez Herrero\n",
    "### Date : 12/06/2022"
   ]
  },
  {
   "cell_type": "code",
   "execution_count": 13,
   "id": "fc528dd9",
   "metadata": {},
   "outputs": [],
   "source": [
    "import DMspikes as dms\n",
    "import numpy as np\n",
    "import matplotlib.pyplot as plt\n",
    "from astropy import constants as const\n",
    "from astropy import units as u\n",
    "import matplotlib as mpl\n",
    "mpl.rcParams['xtick.top'] = False\n",
    "mpl.rcParams['ytick.right'] =False"
   ]
  },
  {
   "cell_type": "markdown",
   "id": "6a9f3538",
   "metadata": {},
   "source": [
    "We want to compute the dark matter density spike considering three different initial density profile models. For that purpose, we have considered the Milky Way parameters, i.e., a black hole mass of $M_{BH}=4\\cdot 10^{6}\\:\\rm{M_\\odot}$, a DM halo mass of $M_{H}=10^{12}\\:\\rm{M_\\odot}$. The scale parameter that they considered for a Herquist model is $a=20\\:\\rm{kpc}$. \n",
    "\n",
    "In the case of the Power-law model, we can consider the same value. However, to converge the models in small radii, we have to change it in the case of the super-Navarro-Frenk-White model as $b= 15\\:\\rm{kpc}$ and $M_{H}=1.5\\cdot 10^{12}\\:\\rm{M_\\odot}$. "
   ]
  },
  {
   "cell_type": "code",
   "execution_count": 2,
   "id": "5855eebb",
   "metadata": {},
   "outputs": [],
   "source": [
    "# Create the objects\n",
    "a = 20\n",
    "M_halo = 1e12\n",
    "M_bh = 4e6\n",
    "gamma = 1\n",
    "power_law = dms.dm_spike(M_halo,M_bh,a,6,75,'Power-law',gamma)\n",
    "snfw = dms.dm_spike(M_halo*1.5,M_bh,a*3/4,6,75,'sNFW')\n",
    "hernquist = dms.dm_spike(M_halo,M_bh,a,6,75,'Hernquist')"
   ]
  },
  {
   "cell_type": "markdown",
   "id": "6bb0ed06",
   "metadata": {},
   "source": [
    "Once we have created the object, we can plot the initial density profile considered to see that its converge at small radii."
   ]
  },
  {
   "cell_type": "code",
   "execution_count": 5,
   "id": "01b2bf34",
   "metadata": {},
   "outputs": [
    {
     "data": {
      "text/plain": [
       "<matplotlib.legend.Legend at 0x21837fd1e50>"
      ]
     },
     "execution_count": 5,
     "metadata": {},
     "output_type": "execute_result"
    },
    {
     "data": {
      "image/png": "[encoded data removed]",
      "text/plain": [
       "<Figure size 432x288 with 1 Axes>"
      ]
     },
     "metadata": {
      "needs_background": "light"
     },
     "output_type": "display_data"
    }
   ],
   "source": [
    "r = np.geomspace(2,1e13,10000)\n",
    "\n",
    "dens_pw = power_law.initial_density(r)\n",
    "dens_sn = snfw.initial_density(r)\n",
    "dens_he = hernquist.initial_density(r)\n",
    "\n",
    "fig, ax1 = plt.subplots(constrained_layout=True)\n",
    "\n",
    "ax1.plot(r*hernquist.Rs.to('pc'),dens_he,'m',label=r'Hernquist')\n",
    "ax1.plot(r*snfw.Rs.to('pc'),dens_sn,'c',label=r'sNFW')\n",
    "ax1.plot(r*power_law.Rs.to('pc'),dens_pw,'orange',label=r'Power-law')\n",
    "\n",
    "ax1.set_xscale('log')\n",
    "ax1.set_yscale('log')\n",
    "ax1.set_ylabel(r'$\\rho$ [GeV cm$^{-3}$ ]')\n",
    "\n",
    "\n",
    "def forward(r):\n",
    "    \n",
    "    return r/hernquist.Rs.to('pc').value\n",
    "def inverse(r):\n",
    "    \n",
    "    return r/hernquist.Rs.to('pc').value\n",
    "\n",
    "secax = ax1.secondary_xaxis('top', functions=(forward,inverse))\n",
    "secax.set_xlabel(r'$r/R_s$',labelpad=15)\n",
    "\n",
    "def forward1(r):\n",
    "    de = r*u.GeV/u.cm**3\n",
    "    return (de/const.c**2).to('M_sun/pc^3').value\n",
    "def inverse1(r):\n",
    "    de = r*u.M_sun/u.pc**3\n",
    "    return (de*const.c**2).to('GeV/cm^3').value\n",
    "\n",
    "secay = ax1.secondary_yaxis('right', functions=(forward1,inverse1))\n",
    "secay.set_ylabel(r'$\\rho$ [$\\rm{M_\\odot \\: pc^{-3}}$ ]')\n",
    "\n",
    "ax1.set_xlabel(r'r [pc]')\n",
    "ax1.set_ylabel(r'$\\rho$ [GeV cm$^3$ ]')\n",
    "ax1.legend(frameon=False, loc=[0.09,0.35],markerscale=0.1,fontsize=13,ncol=1)\n",
    "\n",
    "#plt.savefig('./plots/DM_initial_density_comparison.pdf')"
   ]
  },
  {
   "cell_type": "markdown",
   "id": "67acb1c0",
   "metadata": {},
   "source": [
    "We can compute also the dark matter spike density profile. For speed, whenever you have more than one processor, it is recommended that you use. If you don't want to run it, go to the next cell."
   ]
  },
  {
   "cell_type": "code",
   "execution_count": null,
   "id": "066e51e7",
   "metadata": {},
   "outputs": [],
   "source": [
    "r = np.concatenate((np.geomspace(4,15,8),np.geomspace(20,80,3),np.geomspace(1e2,1e3,3)\n",
    "                  ,np.geomspace(5e3,1e4,3),np.geomspace(5e4,1e5,3),np.geomspace(5e5,1e6,3)\n",
    "                    ,np.geomspace(5e6,1e7,3),np.geomspace(5e7,1e8,3)))\n",
    "\n",
    "hernquist.spike_density_profile(r,True)\n",
    "snfw.spike_density_profile(r,True)\n",
    "power_law.spike_density_profile(r,True)"
   ]
  },
  {
   "cell_type": "markdown",
   "id": "71d00d51",
   "metadata": {},
   "source": [
    "We can save our results in a txt as"
   ]
  },
  {
   "cell_type": "code",
   "execution_count": 8,
   "id": "5f0feafc",
   "metadata": {},
   "outputs": [],
   "source": [
    "# Save the data in a txt.\n",
    "power_law.save_txt_density('./listfile/')\n",
    "snfw.save_txt_density('./listfile/')\n",
    "hernquist.save_txt_density('./listfile/')"
   ]
  },
  {
   "cell_type": "markdown",
   "id": "0b9a571a",
   "metadata": {},
   "source": [
    "We can read data from a txt file, with the appropriate format."
   ]
  },
  {
   "cell_type": "code",
   "execution_count": 9,
   "id": "f6f5d10c",
   "metadata": {},
   "outputs": [
    {
     "data": {
      "text/plain": [
       "[array([0.00000000e+00, 8.36931823e+17, 2.62013940e+18, 3.90904924e+18,\n",
       "        4.27984815e+18, 3.95937190e+18, 3.30253643e+18, 2.57284437e+18,\n",
       "        1.61398750e+18, 4.16830401e+17, 9.27173979e+16, 5.62845959e+16,\n",
       "        4.05849247e+15, 2.81340095e+14, 6.62370062e+12, 2.95197128e+12,\n",
       "        1.31542253e+12, 3.07948756e+10, 1.37187615e+10, 6.11148954e+09,\n",
       "        1.43009639e+08, 6.37089387e+07, 2.83817282e+07, 6.64295241e+05,\n",
       "        2.95959969e+05, 1.31860168e+05, 7.86899700e+02, 5.55761510e+02,\n",
       "        3.92323390e+02]),\n",
       " array([4.00000000e+00, 4.83131000e+00, 5.83538000e+00, 7.04812000e+00,\n",
       "        8.51291000e+00, 1.02821100e+01, 1.24190000e+01, 1.50000000e+01,\n",
       "        2.00000000e+01, 4.00000000e+01, 8.00000000e+01, 1.00000000e+02,\n",
       "        3.16227770e+02, 1.00000000e+03, 5.00000000e+03, 7.07106781e+03,\n",
       "        1.00000000e+04, 5.00000000e+04, 7.07106781e+04, 1.00000000e+05,\n",
       "        5.00000000e+05, 7.07106781e+05, 1.00000000e+06, 5.00000000e+06,\n",
       "        7.07106781e+06, 1.00000000e+07, 5.00000000e+07, 7.07106781e+07,\n",
       "        1.00000000e+08])]"
      ]
     },
     "execution_count": 9,
     "metadata": {},
     "output_type": "execute_result"
    }
   ],
   "source": [
    "power_law.read_spike_density('./listfile/','Density_Power-law_6.6020599913279625_20.0_12.0_.txt')\n",
    "snfw.read_spike_density('./listfile/','Density_sNFW_6.6020599913279625_15.000000000000002_12.176091259055681_.txt')\n",
    "hernquist.read_spike_density('./listfile/','Density_Hernquist_6.6020599913279625_20.0_12.0_.txt')"
   ]
  },
  {
   "cell_type": "markdown",
   "id": "61d8d39d",
   "metadata": {},
   "source": [
    "In this plot, we can see the results. But first, we will calculate the radius of influence of the black hole or the spike radius."
   ]
  },
  {
   "cell_type": "code",
   "execution_count": 29,
   "id": "7e5e4797",
   "metadata": {},
   "outputs": [
    {
     "name": "stdout",
     "output_type": "stream",
     "text": [
      "Radius of the spike in Rs units, r_h = 2.9636398489076363 10^7\n"
     ]
    }
   ],
   "source": [
    "hernquist.break_radius()\n",
    "print(r'Radius of the spike in Rs units, r_h =',hernquist.r_h*0.2/1e7,'10^7')"
   ]
  },
  {
   "cell_type": "code",
   "execution_count": 15,
   "id": "9a4dceed",
   "metadata": {},
   "outputs": [
    {
     "data": {
      "text/plain": [
       "<matplotlib.legend.Legend at 0x218382e1e80>"
      ]
     },
     "execution_count": 15,
     "metadata": {},
     "output_type": "execute_result"
    },
    {
     "data": {
      "image/png": "[encoded data removed]",
      "text/plain": [
       "<Figure size 432x288 with 1 Axes>"
      ]
     },
     "metadata": {
      "needs_background": "light"
     },
     "output_type": "display_data"
    }
   ],
   "source": [
    "\n",
    "\n",
    "dens_pw = power_law.spike_density\n",
    "dens_sn = snfw.spike_density\n",
    "dens_he = hernquist.spike_density\n",
    "\n",
    "fig, ax1 = plt.subplots(constrained_layout=True)\n",
    "\n",
    "ax1.plot(r*hernquist.Rs.to('pc'),dens_he,'m',label=r'Hernquist')\n",
    "ax1.plot(r*snfw.Rs.to('pc'),dens_sn,'c',label=r'sNFW')\n",
    "ax1.plot(r*power_law.Rs.to('pc'),dens_pw,'orange',label=r'Power-law')\n",
    "ax1.set_xscale('log')\n",
    "ax1.set_yscale('log')\n",
    "ax1.set_ylabel(r'$\\rho$ [GeV cm$^{-3}$ ]')\n",
    "\n",
    "\n",
    "ax1.set(xlim=(5e-7,100), ylim=(1e-2,3e20))\n",
    "\n",
    "def forward(r):\n",
    "    \n",
    "    return r/hernquist.Rs.to('pc').value\n",
    "def inverse(r):\n",
    "    \n",
    "    return r/hernquist.Rs.to('pc').value\n",
    "\n",
    "secax = ax1.secondary_xaxis('top', functions=(forward,inverse))\n",
    "secax.set_xlabel(r'$r/R_s$',labelpad=15)\n",
    "\n",
    "def forward1(r):\n",
    "    de = r*u.GeV/u.cm**3\n",
    "    return (de/const.c**2).to('M_sun/pc^3').value\n",
    "def inverse1(r):\n",
    "    de = r*u.M_sun/u.pc**3\n",
    "    return (de*const.c**2).to('GeV/cm^3').value\n",
    "\n",
    "secay = ax1.secondary_yaxis('right', functions=(forward1,inverse1))\n",
    "secay.set_ylabel(r'$\\rho$ [$\\rm{M_\\odot \\: pc^{-3}}$ ]')\n",
    "\n",
    "\n",
    "ax1.set_xlabel(r'r [pc]')\n",
    "ax1.set_ylabel(r'$\\rho$ [GeV cm$^3$ ]')\n",
    "ax1.legend(frameon=False, loc=[0.1,0.25],markerscale=0.1,fontsize=13,ncol=1)\n"
   ]
  },
  {
   "cell_type": "markdown",
   "id": "ec449b97",
   "metadata": {},
   "source": [
    "If we consider that dark matter particles can self-annihilate, have a mass $m_\\chi=100$ GeV, and a cross-section $\\sigma v\\sim 3\\cdot10^{-26}$ cm$^{3}$ s$^{-1}$. The dark matter spike after a time of $t_{BH}\\sim 10$ Myr, decrese their central density. We can use it only on Hernquist's to compare with the rest."
   ]
  },
  {
   "cell_type": "code",
   "execution_count": 33,
   "id": "b3dd2d6d",
   "metadata": {},
   "outputs": [],
   "source": [
    "m_x = 100\n",
    "cross_section = 3e-26\n",
    "t_bh = (10*u.Myr).to('s').value\n",
    "hernquist.spike_annihilation(m_x,cross_section,t_bh)"
   ]
  },
  {
   "cell_type": "code",
   "execution_count": 34,
   "id": "86399bce",
   "metadata": {},
   "outputs": [
    {
     "data": {
      "text/plain": [
       "<matplotlib.legend.Legend at 0x218384f4eb0>"
      ]
     },
     "execution_count": 34,
     "metadata": {},
     "output_type": "execute_result"
    },
    {
     "data": {
      "image/png": "[encoded data removed]",
      "text/plain": [
       "<Figure size 432x288 with 1 Axes>"
      ]
     },
     "metadata": {
      "needs_background": "light"
     },
     "output_type": "display_data"
    }
   ],
   "source": [
    "\n",
    "\n",
    "dens_pw = power_law.spike_density\n",
    "dens_sn = snfw.spike_density\n",
    "dens_he = hernquist.spike_density\n",
    "\n",
    "fig, ax1 = plt.subplots(constrained_layout=True)\n",
    "\n",
    "ax1.plot(r*hernquist.Rs.to('pc'),dens_he,'m',label=r'Hernquist')\n",
    "ax1.plot(r*snfw.Rs.to('pc'),dens_sn,'c',label=r'sNFW')\n",
    "ax1.plot(r*power_law.Rs.to('pc'),dens_pw,'orange',label=r'Power-law')\n",
    "ax1.set_xscale('log')\n",
    "ax1.set_yscale('log')\n",
    "ax1.set_ylabel(r'$\\rho$ [GeV cm$^{-3}$ ]')\n",
    "\n",
    "\n",
    "ax1.set(xlim=(5e-7,100), ylim=(1e-2,3e20))\n",
    "\n",
    "def forward(r):\n",
    "    \n",
    "    return r/hernquist.Rs.to('pc').value\n",
    "def inverse(r):\n",
    "    \n",
    "    return r/hernquist.Rs.to('pc').value\n",
    "\n",
    "secax = ax1.secondary_xaxis('top', functions=(forward,inverse))\n",
    "secax.set_xlabel(r'$r/R_s$',labelpad=15)\n",
    "\n",
    "def forward1(r):\n",
    "    de = r*u.GeV/u.cm**3\n",
    "    return (de/const.c**2).to('M_sun/pc^3').value\n",
    "def inverse1(r):\n",
    "    de = r*u.M_sun/u.pc**3\n",
    "    return (de*const.c**2).to('GeV/cm^3').value\n",
    "\n",
    "secay = ax1.secondary_yaxis('right', functions=(forward1,inverse1))\n",
    "secay.set_ylabel(r'$\\rho$ [$\\rm{M_\\odot \\: pc^{-3}}$ ]')\n",
    "\n",
    "\n",
    "ax1.set_xlabel(r'r [pc]')\n",
    "ax1.set_ylabel(r'$\\rho$ [GeV cm$^3$ ]')\n",
    "ax1.legend(frameon=False, loc=[0.1,0.25],markerscale=0.1,fontsize=13,ncol=1)\n"
   ]
  }
 ],
 "metadata": {
  "kernelspec": {
   "display_name": "Python 3 (ipykernel)",
   "language": "python",
   "name": "python3"
  },
  "language_info": {
   "codemirror_mode": {
    "name": "ipython",
    "version": 3
   },
   "file_extension": ".py",
   "mimetype": "text/x-python",
   "name": "python",
   "nbconvert_exporter": "python",
   "pygments_lexer": "ipython3",
   "version": "3.9.7"
  }
 },
 "nbformat": 4,
 "nbformat_minor": 5
}
